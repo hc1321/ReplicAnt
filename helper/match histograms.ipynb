{
 "cells": [
  {
   "cell_type": "markdown",
   "metadata": {},
   "source": [
    "## Matching colour histograms of masked image textures\n",
    "\n",
    "The code is based on the blogpost [Histogram matching with opencv](https://pyimagesearch.com/2021/02/08/histogram-matching-with-opencv-scikit-image-and-python/) and presents an open source alternative to Peter Falkingham's blogpost on [Colour matching textures of two models with photoshop](https://peterfalkingham.com/2021/10/02/colour-matching-textures/), extending his masking method to automatically [exclude black background elements](https://gist.github.com/tayden/dcc83424ce55bfb970f60db3d4ddad18) resulting from texture islands from the histogram matching process.\n",
    "\n",
    "![image](texture_histogram_matching.jpg)"
   ]
  },
  {
   "cell_type": "code",
   "execution_count": null,
   "metadata": {},
   "outputs": [],
   "source": [
    "from skimage import io, exposure\n",
    "import os\n",
    "import numpy as np"
   ]
  },
  {
   "cell_type": "markdown",
   "metadata": {},
   "source": [
    "Replcae the locations of your **source** and **reference** images according to where they are located on your drive. For batch processing of matching an entire **folder of images** to a **refrence** image, simply set **BATCH** to **True** and provide the path of to the folder containing your source images as the **source**"
   ]
  },
  {
   "cell_type": "code",
   "execution_count": null,
   "metadata": {},
   "outputs": [],
   "source": [
    "source = \"input.png\"\n",
    "reference = \"reference.png\"\n",
    "BATCH = False"
   ]
  },
  {
   "cell_type": "code",
   "execution_count": null,
   "metadata": {},
   "outputs": [],
   "source": [
    "# Histogram matching with masked image\n",
    "def match_histograms(image, reference, image_mask, reference_mask, fill_value=0):\n",
    "    # adapted from https://gist.github.com/tayden/dcc83424ce55bfb970f60db3d4ddad18\n",
    "    # to include masks for the input and reference image\n",
    "    masked_source_image = np.ma.array(image, mask=image_mask)\n",
    "    masked_reference_image = np.ma.array(reference, mask=reference_mask)\n",
    "    \n",
    "    matched = np.ma.array(np.empty(image.shape, dtype=image.dtype),\n",
    "                          mask=image_mask, fill_value=fill_value)\n",
    "    \n",
    "    for channel in range(masked_source_image.shape[-1]):\n",
    "        matched_channel = exposure.match_histograms(masked_source_image[...,channel].compressed(), \n",
    "                                                    masked_reference_image[...,channel].compressed())\n",
    "        \n",
    "        # Re-insert masked background\n",
    "        mask_ch = image_mask[...,channel]\n",
    "        matched[..., channel][~mask_ch] = matched_channel.ravel() \n",
    "    \n",
    "    return matched.filled()"
   ]
  },
  {
   "cell_type": "code",
   "execution_count": null,
   "metadata": {},
   "outputs": [],
   "source": [
    "if BATCH:\n",
    "    src = []\n",
    "    for filename in os.listdir(source):\n",
    "        f = os.path.join(source, filename)\n",
    "        if os.path.isfile(f):\n",
    "            src.append(f)\n",
    "            \n",
    "else:\n",
    "    src = [source]\n",
    "\n",
    "for src_file in src:\n",
    "    print(\"[INFO] processing \", src_file)\n",
    "    src = io.imread(src_file)\n",
    "    ref = io.imread(reference)\n",
    "\n",
    "    # Get a mask that matches image.shape, with mask being where pixel val across channels is 0\n",
    "    src_mask = np.repeat(np.expand_dims(np.all(src == 0, axis=2), axis=2), repeats=3, axis=2)\n",
    "    ref_mask = np.repeat(np.expand_dims(np.all(ref == 0, axis=2), axis=2), repeats=3, axis=2)\n",
    "\n",
    "    print(\"[INFO] performing histogram matching...\")\n",
    "\n",
    "    # Do the masked histogram matching\n",
    "    output = match_histograms(src, ref, src_mask, ref_mask, fill_value=0)\n",
    "\n",
    "    io.imshow(output)\n",
    "    io.imsave(src_file[:-4] + \"_histogram_matched.png\",output.astype(\"uint8\"))\n",
    "\n",
    "    print(\"[INFO] Output written to source folder...\")"
   ]
  },
  {
   "cell_type": "code",
   "execution_count": null,
   "metadata": {},
   "outputs": [],
   "source": []
  }
 ],
 "metadata": {
  "kernelspec": {
   "display_name": "Python 3",
   "language": "python",
   "name": "python3"
  },
  "language_info": {
   "codemirror_mode": {
    "name": "ipython",
    "version": 3
   },
   "file_extension": ".py",
   "mimetype": "text/x-python",
   "name": "python",
   "nbconvert_exporter": "python",
   "pygments_lexer": "ipython3",
   "version": "3.7.6"
  }
 },
 "nbformat": 4,
 "nbformat_minor": 4
}
