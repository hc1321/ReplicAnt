{
 "cells": [
  {
   "cell_type": "code",
   "execution_count": null,
   "metadata": {},
   "outputs": [],
   "source": []
  },
  {
   "cell_type": "code",
   "execution_count": 1,
   "metadata": {},
   "outputs": [
    {
     "name": "stdout",
     "output_type": "stream",
     "text": [
      "importing tracks...\n",
      "imported rec_outside_foraging_close_sparse_5000_frames_Track.001.csv  with 326 points.\n",
      "imported rec_outside_foraging_close_sparse_5000_frames_Track.002.csv  with 459 points.\n",
      "imported rec_outside_foraging_close_sparse_5000_frames_Track.003.csv  with 1000 points.\n",
      "imported rec_outside_foraging_close_sparse_5000_frames_Track.004.csv  with 62 points.\n",
      "imported rec_outside_foraging_close_sparse_5000_frames_Track.005.csv  with 1000 points.\n",
      "imported rec_outside_foraging_close_sparse_5000_frames_Track.006.csv  with 1000 points.\n",
      "imported rec_outside_foraging_close_sparse_5000_frames_Track.007.csv  with 927 points.\n",
      "imported rec_outside_foraging_close_sparse_5000_frames_Track.008.csv  with 506 points.\n",
      "imported rec_outside_foraging_close_sparse_5000_frames_Track.009.csv  with 1000 points.\n",
      "imported rec_outside_foraging_close_sparse_5000_frames_Track.010.csv  with 51 points.\n",
      "imported rec_outside_foraging_close_sparse_5000_frames_Track.011.csv  with 121 points.\n",
      "imported rec_outside_foraging_close_sparse_5000_frames_Track.012.csv  with 1000 points.\n",
      "imported rec_outside_foraging_close_sparse_5000_frames_Track.013.csv  with 664 points.\n",
      "imported rec_outside_foraging_close_sparse_5000_frames_Track.014.csv  with 340 points.\n",
      "imported rec_outside_foraging_close_sparse_5000_frames_Track.015.csv  with 109 points.\n",
      "imported rec_outside_foraging_close_sparse_5000_frames_Track.016.csv  with 1000 points.\n",
      "imported rec_outside_foraging_close_sparse_5000_frames_Track.017.csv  with 178 points.\n",
      "imported rec_outside_foraging_close_sparse_5000_frames_Track.018.csv  with 149 points.\n",
      "imported rec_outside_foraging_close_sparse_5000_frames_Track.019.csv  with 186 points.\n",
      "imported rec_outside_foraging_close_sparse_5000_frames_Track.020.csv  with 307 points.\n",
      "imported rec_outside_foraging_close_sparse_5000_frames_Track.021.csv  with 555 points.\n",
      "imported rec_outside_foraging_close_sparse_5000_frames_Track.022.csv  with 212 points.\n",
      "imported rec_outside_foraging_close_sparse_5000_frames_Track.023.csv  with 41 points.\n",
      "imported rec_outside_foraging_close_sparse_5000_frames_Track.024.csv  with 368 points.\n",
      "imported rec_outside_foraging_close_sparse_5000_frames_Track.025.csv  with 519 points.\n",
      "imported rec_outside_foraging_close_sparse_5000_frames_Track.026.csv  with 443 points.\n",
      "imported rec_outside_foraging_close_sparse_5000_frames_Track.027.csv  with 193 points.\n",
      "imported rec_outside_foraging_close_sparse_5000_frames_Track.028.csv  with 83 points.\n",
      "imported rec_outside_foraging_close_sparse_5000_frames_Track.029.csv  with 239 points.\n",
      "imported rec_outside_foraging_close_sparse_5000_frames_Track.030.csv  with 211 points.\n",
      "imported rec_outside_foraging_close_sparse_5000_frames_Track.031.csv  with 185 points.\n",
      "imported rec_outside_foraging_close_sparse_5000_frames_Track.032.csv  with 494 points.\n",
      "imported rec_outside_foraging_close_sparse_5000_frames_Track.033.csv  with 183 points.\n",
      "imported rec_outside_foraging_close_sparse_5000_frames_Track.034.csv  with 66 points.\n",
      "imported rec_outside_foraging_close_sparse_5000_frames_Track.035.csv  with 176 points.\n",
      "imported rec_outside_foraging_close_sparse_5000_frames_Track.036.csv  with 106 points.\n",
      "imported rec_outside_foraging_close_sparse_5000_frames_Track.037.csv  with 139 points.\n",
      "imported rec_outside_foraging_close_sparse_5000_frames_Track.038.csv  with 116 points.\n",
      "imported rec_outside_foraging_close_sparse_5000_frames_Track.039.csv  with 75 points.\n",
      "imported rec_outside_foraging_close_sparse_5000_frames_Track.040.csv  with 46 points.\n",
      "imported rec_outside_foraging_close_sparse_5000_frames_Track.041.csv  with 83 points.\n",
      "imported rec_outside_foraging_close_sparse_5000_frames_Track.042.csv  with 43 points.\n",
      "imported rec_outside_foraging_close_sparse_5000_frames_Track.043.csv  with 28 points.\n",
      "imported rec_outside_foraging_close_sparse_5000_frames_Track.044.csv  with 20 points.\n",
      "imported rec_outside_foraging_close_sparse_5000_frames_Track.csv  with 1000 points.\n",
      "\n",
      "Successfully combined the tracks of 45 individuals for training and display!\n",
      "Cropped Width = 3840\n",
      "Cropped Height = 2160\n"
     ]
    }
   ],
   "source": [
    "import Generate_YOLO_training\n",
    "import cv2\n",
    "\n",
    "track_path = \"I:/BENCHMARK/sub_colony_tracking/SAVA/export_close_SAVA/\"\n",
    "video_path = \"I:/BENCHMARK/sub_colony_tracking/rec_outside_foraging_close_sparse_5000_frames.mp4\"\n",
    "\n",
    "target_dir = \"I:/FARTS/FARTS_MASTER/helper/REAL/close\"\n",
    "dataset_name = \"rc\"\n",
    "dataset_img_name = \"real_close\"\n",
    "\n",
    "tracked_frames = [0,998]\n",
    "cross_validation_split = [5,0]\n",
    "\n",
    "cap = cv2.VideoCapture(video_path)\n",
    "\n",
    "numFramesMax = int(cap.get(cv2.CAP_PROP_FRAME_COUNT))\n",
    "\n",
    "tracks = Generate_YOLO_training.import_tracks(track_path, numFramesMax, export=False)\n",
    "#Generate_YOLO_training.display_video(cap, tracks, show=tracked_frames, scale=0.4)\n",
    "\n",
    "Generate_YOLO_training.video_to_dataset(video=cap, \n",
    "                                        tracks=tracks, \n",
    "                                        ROI=((0, 2160), (0, 3840)), \n",
    "                                        use_frames=tracked_frames,\n",
    "                                        output_path=target_dir, \n",
    "                                        dataset_img_name=dataset_img_name, \n",
    "                                        target_size=500)\n"
   ]
  },
  {
   "cell_type": "code",
   "execution_count": 13,
   "metadata": {},
   "outputs": [
    {
     "name": "stdout",
     "output_type": "stream",
     "text": [
      "Generating split 1 ...\n",
      "Using 8080 training images and 2020 test images. ( 20 %)\n",
      "Successfully created all required files!\n",
      "Generating split 2 ...\n",
      "Using 8080 training images and 2020 test images. ( 20 %)\n",
      "Successfully created all required files!\n",
      "Generating split 3 ...\n",
      "Using 8080 training images and 2020 test images. ( 20 %)\n",
      "Successfully created all required files!\n",
      "Generating split 4 ...\n",
      "Using 8080 training images and 2020 test images. ( 20 %)\n",
      "Successfully created all required files!\n",
      "Generating split 5 ...\n",
      "Using 8080 training images and 2020 test images. ( 20 %)\n",
      "Successfully created all required files!\n"
     ]
    }
   ],
   "source": [
    "for i in range(cross_validation_split[0]):\n",
    "    print(\"Generating split\", i + 1, \"...\")\n",
    "    Generate_YOLO_training.createCustomFiles(output_folder=target_dir+\"/\",\n",
    "                      obIDs=[\"insect\"],\n",
    "                      k_fold=[cross_validation_split[0],i],\n",
    "                      custom_name=dataset_name+str(i+1))"
   ]
  },
  {
   "cell_type": "code",
   "execution_count": 6,
   "metadata": {},
   "outputs": [
    {
     "ename": "AttributeError",
     "evalue": "'NoneType' object has no attribute 'shape'",
     "output_type": "error",
     "traceback": [
      "\u001b[1;31m---------------------------------------------------------------------------\u001b[0m",
      "\u001b[1;31mAttributeError\u001b[0m                            Traceback (most recent call last)",
      "\u001b[1;32m<ipython-input-6-7e523bf142ec>\u001b[0m in \u001b[0;36m<module>\u001b[1;34m\u001b[0m\n\u001b[0;32m      2\u001b[0m \u001b[1;33m\u001b[0m\u001b[0m\n\u001b[0;32m      3\u001b[0m \u001b[0mtest_img\u001b[0m \u001b[1;33m=\u001b[0m \u001b[0mcv2\u001b[0m\u001b[1;33m.\u001b[0m\u001b[0mimread\u001b[0m\u001b[1;33m(\u001b[0m\u001b[1;34m\"I:/FARTS/FARTS_MASTER/helper/REAL/base_AUG/data/obj/real_base_aug_frame_0.JPG\"\u001b[0m\u001b[1;33m)\u001b[0m\u001b[1;33m\u001b[0m\u001b[1;33m\u001b[0m\u001b[0m\n\u001b[1;32m----> 4\u001b[1;33m \u001b[0mtest_img_height\u001b[0m\u001b[1;33m,\u001b[0m\u001b[0mtest_img_width\u001b[0m \u001b[1;33m=\u001b[0m \u001b[0mtest_img\u001b[0m\u001b[1;33m.\u001b[0m\u001b[0mshape\u001b[0m\u001b[1;33m[\u001b[0m\u001b[1;33m:\u001b[0m\u001b[1;33m-\u001b[0m\u001b[1;36m1\u001b[0m\u001b[1;33m]\u001b[0m\u001b[1;33m\u001b[0m\u001b[1;33m\u001b[0m\u001b[0m\n\u001b[0m\u001b[0;32m      5\u001b[0m \u001b[1;33m\u001b[0m\u001b[0m\n\u001b[0;32m      6\u001b[0m \u001b[1;32mwith\u001b[0m \u001b[0mopen\u001b[0m\u001b[1;33m(\u001b[0m\u001b[1;34m\"I:/FARTS/FARTS_MASTER/helper/REAL/base_AUG/data/obj/real_base_aug_frame_0.txt\"\u001b[0m\u001b[1;33m)\u001b[0m \u001b[1;32mas\u001b[0m \u001b[0mf\u001b[0m\u001b[1;33m:\u001b[0m\u001b[1;33m\u001b[0m\u001b[1;33m\u001b[0m\u001b[0m\n",
      "\u001b[1;31mAttributeError\u001b[0m: 'NoneType' object has no attribute 'shape'"
     ]
    }
   ],
   "source": [
    "# show example detection\n",
    "\n",
    "test_img = cv2.imread(\"I:/FARTS/FARTS_MASTER/helper/REAL/base_AUG/data/obj/real_base_aug_frame_0.JPG\")\n",
    "test_img_height,test_img_width = test_img.shape[:-1]\n",
    "\n",
    "with open(\"I:/FARTS/FARTS_MASTER/helper/REAL/base_AUG/data/obj/real_base_aug_frame_0.txt\") as f:\n",
    "    lines = f.readlines()\n",
    "    for line in lines:\n",
    "        line = line.split(\" \")\n",
    "        x,y,w,h = int(float(line[1])*test_img_width),int(float(line[2])*test_img_height),int(float(line[3])*test_img_width),int(float(line[4])*test_img_height)\n",
    "        cv2.rectangle(test_img, (int(x-w/2), int(y-h/2)), (int(x+w/2), int(y+h/2)), (255, 255, 0), 2)\n",
    "    \n",
    "cv2.imshow(\"test_img\",test_img)\n",
    "cv2.waitKey(0)\n",
    "cv2.destroyAllWindows()\n"
   ]
  },
  {
   "cell_type": "code",
   "execution_count": null,
   "metadata": {},
   "outputs": [],
   "source": []
  }
 ],
 "metadata": {
  "kernelspec": {
   "display_name": "Python 3",
   "language": "python",
   "name": "python3"
  },
  "language_info": {
   "codemirror_mode": {
    "name": "ipython",
    "version": 3
   },
   "file_extension": ".py",
   "mimetype": "text/x-python",
   "name": "python",
   "nbconvert_exporter": "python",
   "pygments_lexer": "ipython3",
   "version": "3.7.6"
  }
 },
 "nbformat": 4,
 "nbformat_minor": 4
}
